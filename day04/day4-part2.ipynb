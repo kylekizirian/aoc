{
 "cells": [
  {
   "cell_type": "code",
   "execution_count": 1,
   "metadata": {},
   "outputs": [
    {
     "name": "stdout",
     "output_type": "stream",
     "text": [
      "670\n"
     ]
    }
   ],
   "source": [
    "print(\n",
    "    sum(\n",
    "        [\n",
    "            all(first_digit <= second_digit for first_digit, second_digit in zip(str(num), str(num)[1:])) and\n",
    "            (\n",
    "                (str(num)[0] == str(num)[1] and str(num)[1] != str(num)[2]) or\n",
    "                (str(num)[-1] == str(num)[-2] and str(num)[-2] != str(num)[-3]) or\n",
    "                any(\n",
    "                    second_digit == third_digit and first_digit != second_digit and third_digit != fourth_digit for\n",
    "                    first_digit, second_digit, third_digit, fourth_digit in\n",
    "                    zip(str(num), str(num)[1:], str(num)[2:], str(num)[3:])\n",
    "                )\n",
    "            )\n",
    "            for num in range(254032, 789860)\n",
    "        ]\n",
    "    )\n",
    ")"
   ]
  }
 ],
 "metadata": {
  "kernelspec": {
   "display_name": "Python 3",
   "language": "python",
   "name": "python3"
  },
  "language_info": {
   "codemirror_mode": {
    "name": "ipython",
    "version": 3
   },
   "file_extension": ".py",
   "mimetype": "text/x-python",
   "name": "python",
   "nbconvert_exporter": "python",
   "pygments_lexer": "ipython3",
   "version": "3.7.5"
  }
 },
 "nbformat": 4,
 "nbformat_minor": 4
}
