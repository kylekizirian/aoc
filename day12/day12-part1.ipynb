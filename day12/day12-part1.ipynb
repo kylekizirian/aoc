{
 "cells": [
  {
   "cell_type": "code",
   "execution_count": 1,
   "metadata": {},
   "outputs": [],
   "source": [
    "with open(\"./input.txt\") as f:\n",
    "    moon_location_strings = f.readlines()"
   ]
  },
  {
   "cell_type": "code",
   "execution_count": 2,
   "metadata": {},
   "outputs": [
    {
     "data": {
      "text/plain": [
       "[(5, -1, 5), (0, -14, 2), (16, 4, 0), (18, 1, 16)]"
      ]
     },
     "execution_count": 2,
     "metadata": {},
     "output_type": "execute_result"
    }
   ],
   "source": [
    "import re\n",
    "\n",
    "moon_location_tuples = []\n",
    "\n",
    "for moon_location in moon_location_strings:\n",
    "    location = re.findall(\"-?\\d+\", moon_location)\n",
    "    moon_location_tuples.append(tuple(map(int, location)))\n",
    "\n",
    "moon_location_tuples"
   ]
  },
  {
   "cell_type": "code",
   "execution_count": 3,
   "metadata": {},
   "outputs": [],
   "source": [
    "from typing import List, Tuple\n",
    "\n",
    "class Moon:\n",
    "\n",
    "    def __init__(self, position: Tuple[int, int, int]):\n",
    "        self.position = list(position)\n",
    "        self.velocity = [0, 0, 0]\n",
    "\n",
    "    def update_velocity(self, other_moons):\n",
    "        \"\"\"Updates moon's velocity based on other moon locations\"\"\"\n",
    "        for other_moon in other_moons:\n",
    "            for i in range(3):\n",
    "                if self.position[i] < other_moon.position[i]:\n",
    "                    self.velocity[i] += 1\n",
    "                elif self.position[i] > other_moon.position[i]:\n",
    "                    self.velocity[i] -= 1\n",
    "\n",
    "    def update_position(self):\n",
    "        \"\"\"Updates moon's position based on its velocity\"\"\"\n",
    "        for i in range(3):\n",
    "            self.position[i] += self.velocity[i]\n",
    "\n",
    "    def get_total_energy(self):\n",
    "        \"\"\"Returns product of absolute values of position and velocity\"\"\"\n",
    "        potential_energy = sum(map(abs, self.position))\n",
    "        kinetic_energy = sum(map(abs, self.velocity))\n",
    "        return potential_energy * kinetic_energy\n",
    "\n",
    "    def __str__(self):\n",
    "        pos_x, pos_y, pos_z = self.position\n",
    "        vel_x, vel_y, vel_z = self.velocity\n",
    "        return f\"pos=<x={pos_x:3}, y={pos_y:3}, z={pos_z:3}>, vel=<x={vel_x:3}, y={vel_y:3}, z={vel_z:3}>\""
   ]
  },
  {
   "cell_type": "code",
   "execution_count": 4,
   "metadata": {},
   "outputs": [],
   "source": [
    "moons = [Moon(moon_location) for moon_location in moon_location_tuples]\n",
    "\n",
    "for i in range(1000):\n",
    "    for moon in moons:\n",
    "        moon.update_velocity(moons)\n",
    "    \n",
    "    for moon in moons:\n",
    "        moon.update_position()\n",
    "\n",
    "total_energy = sum(moon.get_total_energy() for moon in moons)"
   ]
  },
  {
   "cell_type": "code",
   "execution_count": 5,
   "metadata": {},
   "outputs": [
    {
     "data": {
      "text/plain": [
       "7928"
      ]
     },
     "execution_count": 5,
     "metadata": {},
     "output_type": "execute_result"
    }
   ],
   "source": [
    "total_energy"
   ]
  }
 ],
 "metadata": {
  "kernelspec": {
   "display_name": "Python 3",
   "language": "python",
   "name": "python3"
  },
  "language_info": {
   "codemirror_mode": {
    "name": "ipython",
    "version": 3
   },
   "file_extension": ".py",
   "mimetype": "text/x-python",
   "name": "python",
   "nbconvert_exporter": "python",
   "pygments_lexer": "ipython3",
   "version": "3.7.5"
  }
 },
 "nbformat": 4,
 "nbformat_minor": 4
}
