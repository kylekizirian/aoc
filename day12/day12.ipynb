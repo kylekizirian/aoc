{
 "cells": [
  {
   "cell_type": "code",
   "execution_count": 1,
   "metadata": {},
   "outputs": [],
   "source": [
    "with open(\"./input.txt\") as f:\n",
    "    moon_location_strings = f.readlines()"
   ]
  },
  {
   "cell_type": "code",
   "execution_count": 2,
   "metadata": {},
   "outputs": [
    {
     "data": {
      "text/plain": [
       "[(5, -1, 5), (0, -14, 2), (16, 4, 0), (18, 1, 16)]"
      ]
     },
     "execution_count": 2,
     "metadata": {},
     "output_type": "execute_result"
    }
   ],
   "source": [
    "import re\n",
    "\n",
    "moon_location_tuples = []\n",
    "\n",
    "for moon_location in moon_location_strings:\n",
    "    location = re.findall(\"-?\\d+\", moon_location)\n",
    "    moon_location_tuples.append(tuple(map(int, location)))\n",
    "\n",
    "moon_location_tuples"
   ]
  },
  {
   "cell_type": "code",
   "execution_count": 3,
   "metadata": {},
   "outputs": [],
   "source": [
    "from typing import List, Tuple\n",
    "\n",
    "class Moon:\n",
    "\n",
    "    def __init__(self, position: Tuple[int, int, int]):\n",
    "        self.position = list(position)\n",
    "        self.velocity = [0, 0, 0]\n",
    "\n",
    "    @property\n",
    "    def x(self):\n",
    "        return self.position[0]\n",
    "\n",
    "    @property\n",
    "    def y(self):\n",
    "        return self.position[1]\n",
    "\n",
    "    @property\n",
    "    def z(self):\n",
    "        return self.position[2]\n",
    "        \n",
    "    @property\n",
    "    def vx(self):\n",
    "        return self.velocity[0]\n",
    "\n",
    "    @property\n",
    "    def vy(self):\n",
    "        return self.velocity[1]\n",
    "\n",
    "    @property\n",
    "    def vz(self):\n",
    "        return self.velocity[2]\n",
    "\n",
    "    def update_velocity(self, other_moons):\n",
    "        \"\"\"Updates moon's velocity based on other moon locations\"\"\"\n",
    "        for other_moon in other_moons:\n",
    "            for i in range(3):\n",
    "                if self.position[i] < other_moon.position[i]:\n",
    "                    self.velocity[i] += 1\n",
    "                elif self.position[i] > other_moon.position[i]:\n",
    "                    self.velocity[i] -= 1\n",
    "\n",
    "    def update_position(self):\n",
    "        \"\"\"Updates moon's position based on its velocity\"\"\"\n",
    "        for i in range(3):\n",
    "            self.position[i] += self.velocity[i]\n",
    "\n",
    "    def get_total_energy(self):\n",
    "        \"\"\"Returns product of absolute values of position and velocity\"\"\"\n",
    "        potential_energy = sum(map(abs, self.position))\n",
    "        kinetic_energy = sum(map(abs, self.velocity))\n",
    "        return potential_energy * kinetic_energy\n",
    "\n",
    "    def __str__(self):\n",
    "        pos_x, pos_y, pos_z = self.position\n",
    "        vel_x, vel_y, vel_z = self.velocity\n",
    "        return f\"pos=<x={pos_x:3}, y={pos_y:3}, z={pos_z:3}>, vel=<x={vel_x:3}, y={vel_y:3}, z={vel_z:3}>\""
   ]
  },
  {
   "cell_type": "markdown",
   "metadata": {},
   "source": [
    "## part1"
   ]
  },
  {
   "cell_type": "code",
   "execution_count": 4,
   "metadata": {},
   "outputs": [
    {
     "data": {
      "text/plain": [
       "'part 1: total energy = 7928'"
      ]
     },
     "execution_count": 4,
     "metadata": {},
     "output_type": "execute_result"
    }
   ],
   "source": [
    "moons = [Moon(moon_location) for moon_location in moon_location_tuples]\n",
    "\n",
    "for i in range(1000):\n",
    "    for moon in moons:\n",
    "        moon.update_velocity(moons)\n",
    "\n",
    "    for moon in moons:\n",
    "        moon.update_position()\n",
    "\n",
    "f\"part 1: total energy = {sum(moon.get_total_energy() for moon in moons)}\""
   ]
  },
  {
   "cell_type": "markdown",
   "metadata": {},
   "source": [
    "## part2\n",
    "\n",
    "The intituition here is that x, y, and z are cyclical and independent\n",
    "of one another. We must simulate until we find the first time at which\n",
    "x repeats itself, y repeats itself, and z repeats itself. Then, the\n",
    "entire state repeats itself at the least common multiple of those."
   ]
  },
  {
   "cell_type": "code",
   "execution_count": 5,
   "metadata": {},
   "outputs": [
    {
     "data": {
      "text/plain": [
       "'part 2: repeats initial state at step: 518311327635164'"
      ]
     },
     "execution_count": 5,
     "metadata": {},
     "output_type": "execute_result"
    }
   ],
   "source": [
    "import math\n",
    "\n",
    "moons = [Moon(moon_location) for moon_location in moon_location_tuples]\n",
    "init_x = [moon.x for moon in moons]\n",
    "init_y = [moon.y for moon in moons]\n",
    "init_z = [moon.z for moon in moons]\n",
    "x_cycle, y_cycle, z_cycle = 0, 0, 0\n",
    "\n",
    "step = 1\n",
    "while x_cycle == 0 or y_cycle == 0 or z_cycle == 0:\n",
    "    for moon in moons:\n",
    "        moon.update_velocity(moons)\n",
    "    \n",
    "    for moon in moons:\n",
    "        moon.update_position()\n",
    "    \n",
    "    cur_x = [moon.x for moon in moons]\n",
    "    cur_y = [moon.y for moon in moons]\n",
    "    cur_z = [moon.z for moon in moons]\n",
    "\n",
    "    if x_cycle == 0 and all(moon.vx == 0 for moon in moons) and init_x == cur_x:\n",
    "        x_cycle = step\n",
    "\n",
    "    if y_cycle == 0 and all(moon.vy == 0 for moon in moons) and init_y == cur_y:\n",
    "        y_cycle = step\n",
    "\n",
    "    if z_cycle == 0 and all(moon.vz == 0 for moon in moons) and init_z == cur_z:\n",
    "        z_cycle = step\n",
    "\n",
    "    step += 1\n",
    "\n",
    "f\"part 2: repeats initial state at step: {math.lcm(x_cycle, y_cycle, z_cycle)}\""
   ]
  }
 ],
 "metadata": {
  "kernelspec": {
   "display_name": "Python 3 (ipykernel)",
   "language": "python",
   "name": "python3"
  },
  "language_info": {
   "codemirror_mode": {
    "name": "ipython",
    "version": 3
   },
   "file_extension": ".py",
   "mimetype": "text/x-python",
   "name": "python",
   "nbconvert_exporter": "python",
   "pygments_lexer": "ipython3",
   "version": "3.10.4"
  }
 },
 "nbformat": 4,
 "nbformat_minor": 4
}
