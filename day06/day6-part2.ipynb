{
 "cells": [
  {
   "cell_type": "code",
   "execution_count": 1,
   "metadata": {},
   "outputs": [],
   "source": [
    "with open(\"./input.txt\") as f:\n",
    "    orbits = {line.split(\")\")[-1][:-1]: line.split(\")\")[0] for line in f.readlines()}"
   ]
  },
  {
   "cell_type": "code",
   "execution_count": 2,
   "metadata": {},
   "outputs": [],
   "source": [
    "def get_orbital_path(orbit_mappings: dict, obj: str) -> int:\n",
    "    if obj not in orbit_mappings: return (None,)\n",
    "    return (obj, *get_orbital_path(orbit_mappings, orbit_mappings[obj]))"
   ]
  },
  {
   "cell_type": "code",
   "execution_count": 3,
   "metadata": {},
   "outputs": [
    {
     "data": {
      "text/plain": [
       "457"
      ]
     },
     "execution_count": 3,
     "metadata": {},
     "output_type": "execute_result"
    }
   ],
   "source": [
    "you_path, san_path = get_orbital_path(orbits, \"YOU\"), get_orbital_path(orbits, \"SAN\")\n",
    "first_intersect = [item for item in you_path if item in san_path][0]\n",
    "you_path.index(first_intersect) + san_path.index(first_intersect) - 2"
   ]
  }
 ],
 "metadata": {
  "kernelspec": {
   "display_name": "Python 3",
   "language": "python",
   "name": "python3"
  },
  "language_info": {
   "codemirror_mode": {
    "name": "ipython",
    "version": 3
   },
   "file_extension": ".py",
   "mimetype": "text/x-python",
   "name": "python",
   "nbconvert_exporter": "python",
   "pygments_lexer": "ipython3",
   "version": "3.7.4"
  }
 },
 "nbformat": 4,
 "nbformat_minor": 4
}
