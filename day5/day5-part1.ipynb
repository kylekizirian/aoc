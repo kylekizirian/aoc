{
 "cells": [
  {
   "cell_type": "code",
   "execution_count": 1,
   "metadata": {},
   "outputs": [],
   "source": [
    "def fill_five_digits(num: int) -> str:\n",
    "    \"\"\"Given an integer, return string representation, left-pad with 0s to five digits\"\"\"\n",
    "    return str(num).rjust(5, \"0\")\n",
    "\n",
    "assert fill_five_digits(123) == \"00123\""
   ]
  },
  {
   "cell_type": "code",
   "execution_count": 8,
   "metadata": {},
   "outputs": [],
   "source": [
    "from enum import IntEnum\n",
    "\n",
    "class ParameterMode(IntEnum):\n",
    "    Position = 0\n",
    "    Immediate = 1\n",
    "\n",
    "class Opcode(IntEnum):\n",
    "    Add = 1\n",
    "    Mutliply = 2\n",
    "    Input = 3\n",
    "    Output = 4"
   ]
  },
  {
   "cell_type": "code",
   "execution_count": 3,
   "metadata": {},
   "outputs": [],
   "source": [
    "class Instruction:\n",
    "\n",
    "    def __init__(self, instruction: int):\n",
    "        five_digit_inst: str = fill_five_digits(instruction)\n",
    "        self.first_param_mode = int(five_digit_inst[2])\n",
    "        self.second_param_mode = int(five_digit_inst[1])\n",
    "        self.third_param_mod = int(five_digit_inst[0])\n",
    "        self.opcode = int(five_digit_inst[3:])"
   ]
  },
  {
   "cell_type": "code",
   "execution_count": 7,
   "metadata": {},
   "outputs": [],
   "source": [
    "with open(\"./input.txt\") as f:\n",
    "    memory = list(map(int, f.read().split(\",\")))        "
   ]
  },
  {
   "cell_type": "code",
   "execution_count": 10,
   "metadata": {},
   "outputs": [
    {
     "ename": "AttributeError",
     "evalue": "Multiply",
     "output_type": "error",
     "traceback": [
      "\u001b[0;31m---------------------------------------------------------------------------\u001b[0m",
      "\u001b[0;31mAttributeError\u001b[0m                            Traceback (most recent call last)",
      "\u001b[0;32m<ipython-input-10-542ad05cb414>\u001b[0m in \u001b[0;36m<module>\u001b[0;34m\u001b[0m\n\u001b[1;32m     27\u001b[0m         \u001b[0;32mif\u001b[0m \u001b[0mcur_instruction\u001b[0m\u001b[0;34m.\u001b[0m\u001b[0mopcode\u001b[0m \u001b[0;34m==\u001b[0m \u001b[0mOpcode\u001b[0m\u001b[0;34m.\u001b[0m\u001b[0mAdd\u001b[0m\u001b[0;34m:\u001b[0m\u001b[0;34m\u001b[0m\u001b[0;34m\u001b[0m\u001b[0m\n\u001b[1;32m     28\u001b[0m             \u001b[0mmemory\u001b[0m\u001b[0;34m[\u001b[0m\u001b[0mstore_addr\u001b[0m\u001b[0;34m]\u001b[0m \u001b[0;34m=\u001b[0m \u001b[0mfirst_param\u001b[0m \u001b[0;34m+\u001b[0m \u001b[0msecond_param\u001b[0m\u001b[0;34m\u001b[0m\u001b[0;34m\u001b[0m\u001b[0m\n\u001b[0;32m---> 29\u001b[0;31m         \u001b[0;32melif\u001b[0m \u001b[0mcur_instruction\u001b[0m\u001b[0;34m.\u001b[0m\u001b[0mopcode\u001b[0m \u001b[0;34m==\u001b[0m \u001b[0mOpcode\u001b[0m\u001b[0;34m.\u001b[0m\u001b[0mMultiply\u001b[0m\u001b[0;34m:\u001b[0m\u001b[0;34m\u001b[0m\u001b[0;34m\u001b[0m\u001b[0m\n\u001b[0m\u001b[1;32m     30\u001b[0m             \u001b[0mmemory\u001b[0m\u001b[0;34m[\u001b[0m\u001b[0mstore_addr\u001b[0m\u001b[0;34m]\u001b[0m \u001b[0;34m=\u001b[0m \u001b[0mfirst_param\u001b[0m \u001b[0;34m*\u001b[0m \u001b[0msecond_param\u001b[0m\u001b[0;34m\u001b[0m\u001b[0;34m\u001b[0m\u001b[0m\n\u001b[1;32m     31\u001b[0m         \u001b[0;32melse\u001b[0m\u001b[0;34m:\u001b[0m\u001b[0;34m\u001b[0m\u001b[0;34m\u001b[0m\u001b[0m\n",
      "\u001b[0;32m/usr/local/anaconda3/envs/math/lib/python3.7/enum.py\u001b[0m in \u001b[0;36m__getattr__\u001b[0;34m(cls, name)\u001b[0m\n\u001b[1;32m    347\u001b[0m             \u001b[0;32mreturn\u001b[0m \u001b[0mcls\u001b[0m\u001b[0;34m.\u001b[0m\u001b[0m_member_map_\u001b[0m\u001b[0;34m[\u001b[0m\u001b[0mname\u001b[0m\u001b[0;34m]\u001b[0m\u001b[0;34m\u001b[0m\u001b[0;34m\u001b[0m\u001b[0m\n\u001b[1;32m    348\u001b[0m         \u001b[0;32mexcept\u001b[0m \u001b[0mKeyError\u001b[0m\u001b[0;34m:\u001b[0m\u001b[0;34m\u001b[0m\u001b[0;34m\u001b[0m\u001b[0m\n\u001b[0;32m--> 349\u001b[0;31m             \u001b[0;32mraise\u001b[0m \u001b[0mAttributeError\u001b[0m\u001b[0;34m(\u001b[0m\u001b[0mname\u001b[0m\u001b[0;34m)\u001b[0m \u001b[0;32mfrom\u001b[0m \u001b[0;32mNone\u001b[0m\u001b[0;34m\u001b[0m\u001b[0;34m\u001b[0m\u001b[0m\n\u001b[0m\u001b[1;32m    350\u001b[0m \u001b[0;34m\u001b[0m\u001b[0m\n\u001b[1;32m    351\u001b[0m     \u001b[0;32mdef\u001b[0m \u001b[0m__getitem__\u001b[0m\u001b[0;34m(\u001b[0m\u001b[0mcls\u001b[0m\u001b[0;34m,\u001b[0m \u001b[0mname\u001b[0m\u001b[0;34m)\u001b[0m\u001b[0;34m:\u001b[0m\u001b[0;34m\u001b[0m\u001b[0;34m\u001b[0m\u001b[0m\n",
      "\u001b[0;31mAttributeError\u001b[0m: Multiply"
     ]
    }
   ],
   "source": [
    "instruction_pointer = 0\n",
    "cur_instruction = Instruction(memory[instruction_pointer])\n",
    "\n",
    "while cur_instruction.opcode != 99:\n",
    "    if cur_instruction.opcode == Opcode.Input:\n",
    "        store_address = memory[instruction_pointer+1]\n",
    "        memory[store_address] = int(input())\n",
    "        instruction_pointer += 2\n",
    "    elif cur_instruction.opcode == Opcode.Output:\n",
    "        load_address = memory[instruction_pointer+1]\n",
    "        print(memory[load_address])\n",
    "        instruction_pointer += 2\n",
    "    else: # either an Add or Multiply instruction\n",
    "        first_param = memory[instruction_pointer+1]\n",
    "        second_param = memory[instruction_pointer+2]\n",
    "        store_addr = memory[instruction_pointer+3]\n",
    "\n",
    "        # If instructions are position, load value from memory.\n",
    "        # If instructions are immediate, do nothing because param\n",
    "        # already has immediate value stored.\n",
    "        if cur_instruction.first_param_mode == ParameterMode.Position:\n",
    "            first_param = memory[first_param]\n",
    "\n",
    "        if cur_instruction.second_param_mode == ParameterMode.Position:\n",
    "            second_param = memory[second_param]\n",
    "\n",
    "        if cur_instruction.opcode == Opcode.Add:\n",
    "            memory[store_addr] = first_param + second_param\n",
    "        elif cur_instruction.opcode == Opcode.Multiply:\n",
    "            memory[store_addr] = first_param * second_param\n",
    "        else:\n",
    "            raise RuntimeError(f\"Unknown opcode: {cur_instruction.opcode}\")\n",
    "        \n",
    "        instruction_pointer += 4\n",
    "    \n",
    "    cur_instruction = Instruction(memory[instruction_pointer])"
   ]
  },
  {
   "cell_type": "code",
   "execution_count": null,
   "metadata": {},
   "outputs": [],
   "source": []
  }
 ],
 "metadata": {
  "kernelspec": {
   "display_name": "Python 3",
   "language": "python",
   "name": "python3"
  },
  "language_info": {
   "codemirror_mode": {
    "name": "ipython",
    "version": 3
   },
   "file_extension": ".py",
   "mimetype": "text/x-python",
   "name": "python",
   "nbconvert_exporter": "python",
   "pygments_lexer": "ipython3",
   "version": "3.7.5"
  }
 },
 "nbformat": 4,
 "nbformat_minor": 4
}
