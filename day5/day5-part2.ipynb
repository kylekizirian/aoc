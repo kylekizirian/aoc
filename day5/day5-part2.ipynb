{
 "cells": [
  {
   "cell_type": "code",
   "execution_count": 1,
   "metadata": {},
   "outputs": [],
   "source": [
    "def fill_five_digits(num: int) -> str:\n",
    "    \"\"\"Given an integer, return string representation, left-pad with 0s to five digits\"\"\"\n",
    "    return str(num).rjust(5, \"0\")\n",
    "\n",
    "assert fill_five_digits(123) == \"00123\""
   ]
  },
  {
   "cell_type": "code",
   "execution_count": 2,
   "metadata": {},
   "outputs": [],
   "source": [
    "from enum import IntEnum\n",
    "\n",
    "class ParameterMode(IntEnum):\n",
    "    Position = 0\n",
    "    Immediate = 1\n",
    "\n",
    "class Opcode(IntEnum):\n",
    "    Add = 1\n",
    "    Multiply = 2\n",
    "    Input = 3\n",
    "    Output = 4\n",
    "    JumpIfTrue = 5\n",
    "    JumpIfFalse = 6\n",
    "    LessThan = 7\n",
    "    Equals = 8"
   ]
  },
  {
   "cell_type": "code",
   "execution_count": 3,
   "metadata": {},
   "outputs": [],
   "source": [
    "class Instruction:\n",
    "\n",
    "    def __init__(self, instruction: int):\n",
    "        five_digit_inst: str = fill_five_digits(instruction)\n",
    "        self.first_param_mode = int(five_digit_inst[2])\n",
    "        self.second_param_mode = int(five_digit_inst[1])\n",
    "        self.third_param_mod = int(five_digit_inst[0])\n",
    "        self.opcode = int(five_digit_inst[3:])"
   ]
  },
  {
   "cell_type": "code",
   "execution_count": 4,
   "metadata": {},
   "outputs": [],
   "source": [
    "from typing import List, Tuple\n",
    "\n",
    "def handle_input_instruction(memory: List[int], inst_ptr: int) -> Tuple[List[int], int]:\n",
    "    \"\"\"Handles an input instruction and returns updated memory and instruction pointer\"\"\"\n",
    "    inst: Instruction = Instruction(memory[inst_ptr])\n",
    "    if inst.opcode != Opcode.Input:\n",
    "        raise ValueError\n",
    "\n",
    "    store_addr: int = memory[inst_ptr+1]\n",
    "    memory[store_addr] = int(input())\n",
    "    print(f\"Input: {memory[store_addr]}\")\n",
    "    inst_ptr += 2\n",
    "    return memory, inst_ptr\n",
    "\n",
    "\n",
    "def handle_output_instruction(memory: List[int], inst_ptr: int) -> Tuple[List[int], int]:\n",
    "    \"\"\"Handles an output instruction and returns updated memory and instruction pointer\"\"\"\n",
    "    inst: Instruction = Instruction(memory[inst_ptr])\n",
    "    if inst.opcode != Opcode.Output:\n",
    "        raise ValueError\n",
    "\n",
    "    load_address = memory[inst_ptr+1]\n",
    "    print(f\"Output: {memory[load_address]}\")\n",
    "    inst_ptr += 2\n",
    "    return memory, inst_ptr"
   ]
  },
  {
   "cell_type": "code",
   "execution_count": 5,
   "metadata": {},
   "outputs": [],
   "source": [
    "def handle_add_multiply_instruction(memory: List[int], inst_ptr: int) -> Tuple[List[int], int]:\n",
    "    \"\"\"Handles an add/mult instruction and returns updated memory and instruction pointer\"\"\"\n",
    "    inst: Instruction = Instruction(memory[inst_ptr])\n",
    "    if inst.opcode not in [Opcode.Add, Opcode.Multiply]:\n",
    "        raise ValueError\n",
    "\n",
    "    first_param = memory[inst_ptr+1]\n",
    "    second_param = memory[inst_ptr+2]\n",
    "    store_addr = memory[inst_ptr+3]\n",
    "\n",
    "    # If instructions are position, load value from memory.\n",
    "    # If instructions are immediate, do nothing because param\n",
    "    # already has immediate value stored.\n",
    "    if inst.first_param_mode == ParameterMode.Position:\n",
    "        first_param = memory[first_param]\n",
    "    if inst.second_param_mode == ParameterMode.Position:\n",
    "        second_param = memory[second_param]\n",
    "\n",
    "    if inst.opcode == Opcode.Add:\n",
    "        memory[store_addr] = first_param + second_param\n",
    "    elif inst.opcode == Opcode.Multiply:\n",
    "        memory[store_addr] = first_param * second_param\n",
    "\n",
    "    inst_ptr += 4\n",
    "\n",
    "    return memory, inst_ptr"
   ]
  },
  {
   "cell_type": "code",
   "execution_count": 6,
   "metadata": {},
   "outputs": [],
   "source": [
    "def handle_jump_instruction(memory: List[int], inst_ptr: int) -> Tuple[List[int], int]:\n",
    "    \"\"\"Handles jump-if-true and jump-if-false instructions\n",
    "    \n",
    "    Returns updated memory and instruction pointer\n",
    "    \"\"\"\n",
    "    inst: Instruction = Instruction(memory[inst_ptr])\n",
    "    if inst.opcode not in [Opcode.JumpIfTrue, Opcode.JumpIfFalse]:\n",
    "        raise ValueError\n",
    "\n",
    "    first_param = memory[inst_ptr+1]\n",
    "    second_param = memory[inst_ptr+2]\n",
    "\n",
    "    if inst.first_param_mode == ParameterMode.Position:\n",
    "        first_param = memory[first_param]\n",
    "\n",
    "    if inst.second_param_mode == ParameterMode.Position:\n",
    "        second_param = memory[second_param]\n",
    "\n",
    "    jump_true_cond = inst.opcode == Opcode.JumpIfTrue and first_param != 0\n",
    "    jump_false_cond = inst.opcode == Opcode.JumpIfFalse and first_param == 0\n",
    "        \n",
    "    if jump_true_cond or jump_false_cond:\n",
    "        inst_ptr = second_param\n",
    "    else:\n",
    "        inst_ptr += 3\n",
    "\n",
    "    return memory, inst_ptr"
   ]
  },
  {
   "cell_type": "code",
   "execution_count": 7,
   "metadata": {},
   "outputs": [],
   "source": [
    "def handle_compare_instruction(memory: List[int], inst_ptr: int) -> Tuple[List[int], int]:\n",
    "    \"\"\"Handles less-than and equals instructions\n",
    "    \n",
    "    Returns updated memory and instruction pointer\n",
    "    \"\"\"\n",
    "    inst: Instruction = Instruction(memory[inst_ptr])\n",
    "    if inst.opcode not in [Opcode.LessThan, Opcode.Equals]:\n",
    "        raise ValueError\n",
    "\n",
    "    first_param = memory[inst_ptr+1]\n",
    "    second_param = memory[inst_ptr+2]\n",
    "    store_addr = memory[inst_ptr+3]\n",
    "\n",
    "    if inst.first_param_mode == ParameterMode.Position:\n",
    "        first_param = memory[first_param]\n",
    "\n",
    "    if inst.second_param_mode == ParameterMode.Position:\n",
    "        second_param = memory[second_param]\n",
    "    \n",
    "    less_than_cond = inst.opcode == Opcode.LessThan and first_param < second_param\n",
    "    equals_cond = inst.opcode == Opcode.Equals and first_param == second_param\n",
    "\n",
    "    if less_than_cond or equals_cond:\n",
    "        memory[store_addr] = 1\n",
    "    else:\n",
    "        memory[store_addr] = 0\n",
    "\n",
    "    inst_ptr += 4\n",
    "    \n",
    "    return memory, inst_ptr"
   ]
  },
  {
   "cell_type": "code",
   "execution_count": 8,
   "metadata": {},
   "outputs": [],
   "source": [
    "opcode_to_handler = {\n",
    "    Opcode.Add: handle_add_multiply_instruction,\n",
    "    Opcode.Multiply: handle_add_multiply_instruction,\n",
    "    Opcode.Input: handle_input_instruction,\n",
    "    Opcode.Output: handle_output_instruction,\n",
    "    Opcode.JumpIfTrue: handle_jump_instruction,\n",
    "    Opcode.JumpIfFalse: handle_jump_instruction,\n",
    "    Opcode.LessThan: handle_compare_instruction,\n",
    "    Opcode.Equals: handle_compare_instruction,\n",
    "}"
   ]
  },
  {
   "cell_type": "code",
   "execution_count": 9,
   "metadata": {},
   "outputs": [],
   "source": [
    "with open(\"./input.txt\") as f:\n",
    "    memory: List[int] = list(map(int, f.read().split(\",\")))        "
   ]
  },
  {
   "cell_type": "code",
   "execution_count": 10,
   "metadata": {},
   "outputs": [
    {
     "name": "stdin",
     "output_type": "stream",
     "text": [
      " 5\n"
     ]
    },
    {
     "name": "stdout",
     "output_type": "stream",
     "text": [
      "Input: 5\n",
      "Output: 513116\n"
     ]
    }
   ],
   "source": [
    "inst_ptr = 0\n",
    "cur_instruction = Instruction(memory[inst_ptr])\n",
    "\n",
    "while cur_instruction.opcode != 99:\n",
    "    \n",
    "    inst_handler = opcode_to_handler[cur_instruction.opcode]\n",
    "    memory, inst_ptr = inst_handler(memory, inst_ptr)\n",
    "\n",
    "    cur_instruction = Instruction(memory[inst_ptr])"
   ]
  }
 ],
 "metadata": {
  "kernelspec": {
   "display_name": "Python 3",
   "language": "python",
   "name": "python3"
  },
  "language_info": {
   "codemirror_mode": {
    "name": "ipython",
    "version": 3
   },
   "file_extension": ".py",
   "mimetype": "text/x-python",
   "name": "python",
   "nbconvert_exporter": "python",
   "pygments_lexer": "ipython3",
   "version": "3.7.5"
  }
 },
 "nbformat": 4,
 "nbformat_minor": 4
}
