{
 "cells": [
  {
   "cell_type": "code",
   "execution_count": null,
   "metadata": {},
   "outputs": [],
   "source": [
    "def fill_five_digits(num: int) -> str:\n",
    "    \"\"\"Given an integer, return string representation, left-pad with 0s to five digits\"\"\"\n",
    "    return str(num).rjust(5, \"0\")\n",
    "\n",
    "assert fill_five_digits(123) == \"00123\""
   ]
  },
  {
   "cell_type": "code",
   "execution_count": null,
   "metadata": {},
   "outputs": [],
   "source": [
    "from enum import IntEnum\n",
    "\n",
    "class ParameterMode(IntEnum):\n",
    "    Position = 0\n",
    "    Immediate = 1\n",
    "\n",
    "class Opcode(IntEnum):\n",
    "    Add = 1\n",
    "    Multiply = 2\n",
    "    Input = 3\n",
    "    Output = 4\n",
    "    JumpIfTrue = 5\n",
    "    JumpIfFalse = 6\n",
    "    LessThan = 7\n",
    "    Equals = 8"
   ]
  },
  {
   "cell_type": "code",
   "execution_count": null,
   "metadata": {},
   "outputs": [],
   "source": [
    "class Instruction:\n",
    "\n",
    "    def __init__(self, instruction: int):\n",
    "        five_digit_inst: str = fill_five_digits(instruction)\n",
    "        self.first_param_mode = int(five_digit_inst[2])\n",
    "        self.second_param_mode = int(five_digit_inst[1])\n",
    "        self.third_param_mod = int(five_digit_inst[0])\n",
    "        self.opcode = int(five_digit_inst[3:])"
   ]
  },
  {
   "cell_type": "code",
   "execution_count": 4,
   "metadata": {},
   "outputs": [],
   "source": [
    "with open(\"./input.txt\") as f:\n",
    "    memory = list(map(int, f.read().split(\",\")))        "
   ]
  },
  {
   "cell_type": "code",
   "execution_count": 5,
   "metadata": {},
   "outputs": [
    {
     "name": "stdin",
     "output_type": "stream",
     "text": [
      " 5\n"
     ]
    },
    {
     "name": "stdout",
     "output_type": "stream",
     "text": [
      "Input: 5\n",
      "Output: 513116\n"
     ]
    }
   ],
   "source": [
    "instruction_pointer = 0\n",
    "cur_instruction = Instruction(memory[instruction_pointer])\n",
    "\n",
    "while cur_instruction.opcode != 99:\n",
    "    if cur_instruction.opcode == Opcode.Input:\n",
    "        store_address = memory[instruction_pointer+1]\n",
    "        memory[store_address] = int(input())\n",
    "        print(f\"Input: {memory[store_address]}\")\n",
    "        instruction_pointer += 2\n",
    "    elif cur_instruction.opcode == Opcode.Output:\n",
    "        load_address = memory[instruction_pointer+1]\n",
    "        print(f\"Output: {memory[load_address]}\")\n",
    "        instruction_pointer += 2\n",
    "    \n",
    "    elif cur_instruction.opcode in [Opcode.Add, Opcode.Multiply]:\n",
    "        first_param = memory[instruction_pointer+1]\n",
    "        second_param = memory[instruction_pointer+2]\n",
    "        store_addr = memory[instruction_pointer+3]\n",
    "\n",
    "        # If instructions are position, load value from memory.\n",
    "        # If instructions are immediate, do nothing because param\n",
    "        # already has immediate value stored.\n",
    "        if cur_instruction.first_param_mode == ParameterMode.Position:\n",
    "            first_param = memory[first_param]\n",
    "\n",
    "        if cur_instruction.second_param_mode == ParameterMode.Position:\n",
    "            second_param = memory[second_param]\n",
    "\n",
    "        if cur_instruction.opcode == Opcode.Add:\n",
    "            memory[store_addr] = first_param + second_param\n",
    "        elif cur_instruction.opcode == Opcode.Multiply:\n",
    "            memory[store_addr] = first_param * second_param\n",
    "\n",
    "        instruction_pointer += 4\n",
    "\n",
    "    elif cur_instruction.opcode in [Opcode.JumpIfTrue, Opcode.JumpIfFalse]:\n",
    "        first_param = memory[instruction_pointer+1]\n",
    "        second_param = memory[instruction_pointer+2]\n",
    "\n",
    "        if cur_instruction.first_param_mode == ParameterMode.Position:\n",
    "            first_param = memory[first_param]\n",
    "\n",
    "        if cur_instruction.second_param_mode == ParameterMode.Position:\n",
    "            second_param = memory[second_param]\n",
    "\n",
    "        if ((cur_instruction.opcode == Opcode.JumpIfTrue and first_param != 0) or\n",
    "            (cur_instruction.opcode == Opcode.JumpIfFalse and first_param == 0)):\n",
    "            instruction_pointer = second_param\n",
    "        else:\n",
    "            instruction_pointer += 3\n",
    "\n",
    "    elif cur_instruction.opcode in [Opcode.LessThan, Opcode.Equals]:\n",
    "        first_param = memory[instruction_pointer+1]\n",
    "        second_param = memory[instruction_pointer+2]\n",
    "        store_addr = memory[instruction_pointer+3]\n",
    "\n",
    "        if cur_instruction.first_param_mode == ParameterMode.Position:\n",
    "            first_param = memory[first_param]\n",
    "\n",
    "        if cur_instruction.second_param_mode == ParameterMode.Position:\n",
    "            second_param = memory[second_param]\n",
    "\n",
    "        if ((cur_instruction.opcode == Opcode.LessThan and first_param < second_param) or\n",
    "            (cur_instruction.opcode == Opcode.Equals and first_param == second_param)):\n",
    "            memory[store_addr] = 1\n",
    "        else:\n",
    "            memory[store_addr] = 0\n",
    "\n",
    "        instruction_pointer += 4\n",
    "\n",
    "    else:\n",
    "        raise RuntimeError(f\"Unknown opcode: {cur_instruction.opcode}\")\n",
    "\n",
    "    cur_instruction = Instruction(memory[instruction_pointer])"
   ]
  },
  {
   "cell_type": "code",
   "execution_count": null,
   "metadata": {},
   "outputs": [],
   "source": []
  }
 ],
 "metadata": {
  "kernelspec": {
   "display_name": "Python 3",
   "language": "python",
   "name": "python3"
  },
  "language_info": {
   "codemirror_mode": {
    "name": "ipython",
    "version": 3
   },
   "file_extension": ".py",
   "mimetype": "text/x-python",
   "name": "python",
   "nbconvert_exporter": "python",
   "pygments_lexer": "ipython3",
   "version": "3.7.5"
  }
 },
 "nbformat": 4,
 "nbformat_minor": 4
}
