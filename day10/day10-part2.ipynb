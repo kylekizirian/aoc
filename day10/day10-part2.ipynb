{
 "cells": [
  {
   "cell_type": "code",
   "execution_count": 1,
   "metadata": {},
   "outputs": [],
   "source": [
    "import numpy as np\n",
    "\n",
    "DIMENSIONS = (36, 36)"
   ]
  },
  {
   "cell_type": "markdown",
   "metadata": {},
   "source": [
    "## Turn asteroid belt into 2D numpy array in which 1 represents an asteroid"
   ]
  },
  {
   "cell_type": "code",
   "execution_count": 2,
   "metadata": {},
   "outputs": [],
   "source": [
    "with open(\"./input.txt\") as f:\n",
    "    asteroid_belt = f.read().replace(\"\\n\", \"\")\n",
    "\n",
    "asteroid_belt = asteroid_belt.replace(\".\", \"0\").replace(\"#\", \"1\")\n",
    "asteroid_belt = np.array(list(map(int, list(asteroid_belt))))\n",
    "asteroid_belt.shape = (36, 36)\n",
    "asteroid_belt = asteroid_belt.transpose()"
   ]
  },
  {
   "cell_type": "markdown",
   "metadata": {},
   "source": [
    "## Store (x, y) of asteroid locations in an list"
   ]
  },
  {
   "cell_type": "code",
   "execution_count": 3,
   "metadata": {},
   "outputs": [],
   "source": [
    "asteroid_locs = [\n",
    "    (x, -1*y) for x in range(36)\n",
    "    for y in range(36)\n",
    "    if asteroid_belt[x, y] == 1\n",
    "]"
   ]
  },
  {
   "cell_type": "code",
   "execution_count": 4,
   "metadata": {},
   "outputs": [],
   "source": [
    "from functools import partial\n",
    "from typing import Tuple\n",
    "\n",
    "round_to_five_decimal = partial(round, ndigits=5)\n",
    "\n",
    "def get_unit_vector_between_points(\n",
    "    point1: Tuple[float, float], point2: Tuple[float, float]\n",
    ") -> Tuple[float, float]:\n",
    "    \"\"\"Returns a vector of unit length between two points, rounded to 5 decimal places\"\"\"\n",
    "    point_diff = np.array(point2) - np.array(point1)\n",
    "    unit_vec = point_diff / np.linalg.norm(point_diff)\n",
    "\n",
    "    return tuple(map(round_to_five_decimal, unit_vec))"
   ]
  },
  {
   "cell_type": "code",
   "execution_count": 5,
   "metadata": {},
   "outputs": [
    {
     "data": {
      "text/plain": [
       "(array([17]), array([14]))"
      ]
     },
     "execution_count": 5,
     "metadata": {},
     "output_type": "execute_result"
    }
   ],
   "source": [
    "reachable_asteroids = np.zeros((36, 36))\n",
    "\n",
    "for asteroid in asteroid_locs:\n",
    "    # get list of all asteroids other than current one\n",
    "    other_asteroids = [other_asteroid for other_asteroid in asteroid_locs if asteroid != other_asteroid]\n",
    "    unit_vector_to_asteroid = set()\n",
    "\n",
    "    unit_vector_to_asteroid = set([\n",
    "        get_unit_vector_between_points(asteroid, other_asteroid)\n",
    "        for other_asteroid in other_asteroids\n",
    "    ])\n",
    "\n",
    "    reachable_asteroids[asteroid] = len(unit_vector_to_asteroid)\n",
    "\n",
    "np.where(reachable_asteroids == np.amax(reachable_asteroids))"
   ]
  },
  {
   "cell_type": "code",
   "execution_count": 6,
   "metadata": {},
   "outputs": [],
   "source": [
    "asteroid_loc = (17, -22)\n",
    "\n",
    "other_asteroids = [other_asteroid for other_asteroid in asteroid_locs if other_asteroid != asteroid_loc]\n",
    "\n",
    "# create a dictionary where key is unit vector to other asteroids\n",
    "# and value is list of asteroids, sorted by Euclidean distance\n",
    "unit_vec_to_asteroids = {}\n",
    "\n",
    "for other_asteroid in other_asteroids:\n",
    "    unit_vector = get_unit_vector_between_points(asteroid_loc, other_asteroid)\n",
    "    if unit_vector not in unit_vec_to_asteroids:\n",
    "        unit_vec_to_asteroids[unit_vector] = []\n",
    "\n",
    "    unit_vec_to_asteroids[unit_vector].append(other_asteroid)\n",
    "\n",
    "def get_euclidean_distance(\n",
    "    point1: Tuple[float, float], point2: Tuple[float, float] = (17, -22)\n",
    ") -> float:\n",
    "    \"\"\"Default is to get Euclidean distance from (17, 22) for distance from our asteroid\"\"\"\n",
    "    return np.linalg.norm(np.array(point2) - np.array(point1))\n",
    "\n",
    "for unit_vec in unit_vec_to_asteroids.keys():\n",
    "    unit_vec_to_asteroids[unit_vec].sort(key=get_euclidean_distance)"
   ]
  },
  {
   "cell_type": "code",
   "execution_count": 7,
   "metadata": {},
   "outputs": [],
   "source": [
    "import math\n",
    "\n",
    "def complex_num_to_clockwise_angle(complex_num: Tuple[float, float]) -> float:\n",
    "    \"\"\"Takes a complex number and returns its 0 to 360 value clockwise\n",
    "\n",
    "    0 degrees postive Y-axis\n",
    "    \"\"\"\n",
    "    angle = math.degrees(math.atan2(*complex_num))\n",
    "    if angle < 0:\n",
    "        angle = 360 + angle\n",
    "    return angle"
   ]
  },
  {
   "cell_type": "code",
   "execution_count": 8,
   "metadata": {},
   "outputs": [
    {
     "data": {
      "text/plain": [
       "1321"
      ]
     },
     "execution_count": 8,
     "metadata": {},
     "output_type": "execute_result"
    }
   ],
   "source": [
    "asteroids_destroy_order = []\n",
    "vaporized_asteroids = 0\n",
    "\n",
    "for other_asteroid in sorted(unit_vec_to_asteroids, key=complex_num_to_clockwise_angle):\n",
    "    try:\n",
    "        asteroid_to_vaporize = unit_vec_to_asteroids[other_asteroid].pop(0)\n",
    "    except IndexError:\n",
    "        pass\n",
    "    else:\n",
    "        vaporized_asteroids += 1\n",
    "        asteroids_destroy_order.append(asteroid_to_vaporize)\n",
    "\n",
    "\n",
    "asteroids_destroy_order[199][0]*100 - asteroids_destroy_order[199][1]"
   ]
  }
 ],
 "metadata": {
  "kernelspec": {
   "display_name": "Python 3",
   "language": "python",
   "name": "python3"
  },
  "language_info": {
   "codemirror_mode": {
    "name": "ipython",
    "version": 3
   },
   "file_extension": ".py",
   "mimetype": "text/x-python",
   "name": "python",
   "nbconvert_exporter": "python",
   "pygments_lexer": "ipython3",
   "version": "3.7.5"
  }
 },
 "nbformat": 4,
 "nbformat_minor": 4
}
