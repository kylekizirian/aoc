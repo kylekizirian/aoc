{
 "cells": [
  {
   "cell_type": "code",
   "execution_count": 1,
   "metadata": {},
   "outputs": [],
   "source": [
    "import numpy as np\n",
    "\n",
    "DIMENSIONS = (36, 36)"
   ]
  },
  {
   "cell_type": "markdown",
   "metadata": {},
   "source": [
    "## Turn asteroid belt into 2D numpy array in which 1 represents an asteroid"
   ]
  },
  {
   "cell_type": "code",
   "execution_count": 2,
   "metadata": {},
   "outputs": [],
   "source": [
    "with open(\"./input.txt\") as f:\n",
    "    asteroid_belt = f.read().replace(\"\\n\", \"\")\n",
    "\n",
    "asteroid_belt = asteroid_belt.replace(\".\", \"0\").replace(\"#\", \"1\")\n",
    "asteroid_belt = np.array(list(map(int, list(asteroid_belt))))\n",
    "asteroid_belt.shape = (36, 36)\n",
    "asteroid_belt = asteroid_belt.transpose()"
   ]
  },
  {
   "cell_type": "markdown",
   "metadata": {},
   "source": [
    "## Store (x, y) of asteroid locations in an array"
   ]
  },
  {
   "cell_type": "code",
   "execution_count": 3,
   "metadata": {},
   "outputs": [],
   "source": [
    "asteroid_locs = [\n",
    "    (x, y) for x in range(36)\n",
    "    for y in range(36)\n",
    "    if asteroid_belt[x, y] == 1\n",
    "]"
   ]
  },
  {
   "cell_type": "code",
   "execution_count": 4,
   "metadata": {
    "jupyter": {
     "source_hidden": true
    }
   },
   "outputs": [],
   "source": [
    "from typing import Tuple\n",
    "from fractions import Fraction\n",
    "\n",
    "def check_point_on_line(\n",
    "    point1: Tuple[int, int], point2: Tuple[int, int], slope: Fraction\n",
    ") -> bool:\n",
    "    \"\"\"Checkes whether point2 and point1 lie on line created by slope\n",
    "    \n",
    "    Pass None for slope if it is a vertical line\n",
    "    \"\"\"\n",
    "    if slope is None:\n",
    "        return point1[0] == point2[0]\n",
    "\n",
    "    y2_minus_y1 = point2[1] - point1[1]\n",
    "    x2_minus_x1 = point2[0] - point1[0]\n",
    "    slope_between_points = Fraction(y2_minus_y1, x2_minus_x1)\n",
    "\n",
    "    if slope == 0 and slope_between_points == 0:\n",
    "        return True\n",
    "    elif slope_between_points == 0:\n",
    "        return False    \n",
    "\n",
    "    return (slope / slope_between_points) == 1\n",
    "\n",
    "\n",
    "assert check_point_on_line((0, 0), (1, 2), Fraction(2))\n",
    "assert check_point_on_line((0, 0), (-1, -2), Fraction(2))\n",
    "assert check_point_on_line((2, 2), (4, 2), Fraction(0))\n",
    "assert check_point_on_line((2, 2), (2, 4), None)"
   ]
  },
  {
   "cell_type": "code",
   "execution_count": 5,
   "metadata": {},
   "outputs": [],
   "source": [
    "def get_slope_between_points(\n",
    "    point1: Tuple[int, int], point2: Tuple[int, int]\n",
    ") -> Fraction:\n",
    "    \"\"\"Given two points, returns Fraction object representing slope\n",
    "\n",
    "    Returns None for vertical slope\n",
    "    \"\"\"\n",
    "    if point1[0] == point2[0]:\n",
    "        return None\n",
    "\n",
    "    return Fraction(point2[1]-point1[1], point2[0]-point1[0])\n",
    "\n",
    "\n",
    "assert get_slope_between_points((0, 0), (1, 2)) == Fraction(2, 1)\n",
    "assert get_slope_between_points((2, 0), (2, 2)) == None"
   ]
  },
  {
   "cell_type": "markdown",
   "metadata": {},
   "source": [
    "## Determine how many asteroids are reachable from a given asteroid\n",
    "\n",
    "For each asteroid, iterate over all over asteroids and compute the slope between the two asteroids.\n",
    "\n",
    "Each asteroid can have, at most, two other reachable asteroids along the same line. One asteroid at a position \"less than\" the current asteroid's location or a position \"greater than\" the asteroid's location.\n",
    "\n",
    "Consider an asteroid located at (1, 1) and other asteroids located at (0, 0), (2, 2), and (3, 3). There are two reachable asteroids, one at (0, 0) and one at (2, 2). The one at (3, 3) is unreachable because it's blocked by (2, 2). These all lie along the same line but relative to (1, 1) there is one to the left and one to the right.\n",
    "\n",
    "To count the  number of reachable asteroids from a given location, we create a dictionary of slopes to other asteroids and whether an asteroid is at a position greater or less than the current location. The number of entries in the dictionary then gives the number of reachable asteroids."
   ]
  },
  {
   "cell_type": "code",
   "execution_count": 6,
   "metadata": {},
   "outputs": [],
   "source": [
    "reachable_asteroids = np.zeros((36, 36))\n",
    "\n",
    "for asteroid_loc in asteroid_locs:\n",
    "    # get list of all asteroids other than current one\n",
    "    asteroids_to_check = [asteroid for asteroid in asteroid_locs if asteroid != asteroid_loc]\n",
    "\n",
    "    # map a slope to an asteroid that reaches it along given slope\n",
    "    slope_to_asteroid = {}\n",
    "\n",
    "    for asteroid in asteroids_to_check:\n",
    "        slope = get_slope_between_points(asteroid_loc, asteroid)\n",
    "\n",
    "        if slope not in slope_to_asteroid:\n",
    "            slope_to_asteroid[slope] = {}\n",
    "\n",
    "        if slope is None:\n",
    "            if asteroid[1] > asteroid_loc[1]:\n",
    "                slope_to_asteroid[slope][\"Greater\"] = asteroid\n",
    "            else:\n",
    "                slope_to_asteroid[slope][\"Less\"] = asteroid\n",
    "        else:\n",
    "            if asteroid[0] > asteroid_loc[0]:\n",
    "                slope_to_asteroid[slope][\"Greater\"] = asteroid\n",
    "            else:\n",
    "                slope_to_asteroid[slope][\"Less\"] = asteroid\n",
    "\n",
    "    # now, check how many asteroids we can reach\n",
    "    num_reachable_asteroids = sum(len(reachable) for reachable in slope_to_asteroid.values())\n",
    "    reachable_asteroids[asteroid_loc] = num_reachable_asteroids"
   ]
  },
  {
   "cell_type": "code",
   "execution_count": 7,
   "metadata": {},
   "outputs": [
    {
     "data": {
      "text/plain": [
       "276.0"
      ]
     },
     "execution_count": 7,
     "metadata": {},
     "output_type": "execute_result"
    }
   ],
   "source": [
    "reachable_asteroids.max()"
   ]
  }
 ],
 "metadata": {
  "kernelspec": {
   "display_name": "Python 3",
   "language": "python",
   "name": "python3"
  },
  "language_info": {
   "codemirror_mode": {
    "name": "ipython",
    "version": 3
   },
   "file_extension": ".py",
   "mimetype": "text/x-python",
   "name": "python",
   "nbconvert_exporter": "python",
   "pygments_lexer": "ipython3",
   "version": "3.7.5"
  }
 },
 "nbformat": 4,
 "nbformat_minor": 4
}
