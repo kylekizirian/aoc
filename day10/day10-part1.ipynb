{
 "cells": [
  {
   "cell_type": "code",
   "execution_count": 1,
   "metadata": {},
   "outputs": [],
   "source": [
    "import numpy as np\n",
    "\n",
    "DIMENSIONS = (36, 36)"
   ]
  },
  {
   "cell_type": "markdown",
   "metadata": {},
   "source": [
    "## Turn asteroid belt into 2D numpy array in which 1 represents an asteroid"
   ]
  },
  {
   "cell_type": "code",
   "execution_count": 2,
   "metadata": {},
   "outputs": [],
   "source": [
    "with open(\"./input.txt\") as f:\n",
    "    asteroid_belt = f.read().replace(\"\\n\", \"\")\n",
    "\n",
    "asteroid_belt = asteroid_belt.replace(\".\", \"0\").replace(\"#\", \"1\")\n",
    "asteroid_belt = np.array(list(map(int, list(asteroid_belt))))\n",
    "asteroid_belt.shape = (36, 36)\n",
    "asteroid_belt = asteroid_belt.transpose()"
   ]
  },
  {
   "cell_type": "markdown",
   "metadata": {},
   "source": [
    "## Store (x, y) of asteroid locations in an list"
   ]
  },
  {
   "cell_type": "code",
   "execution_count": 3,
   "metadata": {},
   "outputs": [],
   "source": [
    "asteroid_locs = [\n",
    "    (x, y) for x in range(36)\n",
    "    for y in range(36)\n",
    "    if asteroid_belt[x, y] == 1\n",
    "]"
   ]
  },
  {
   "cell_type": "code",
   "execution_count": 4,
   "metadata": {},
   "outputs": [],
   "source": [
    "from functools import partial\n",
    "from typing import Tuple\n",
    "\n",
    "round_to_five_decimal = partial(round, ndigits=5)\n",
    "\n",
    "def get_unit_vector_between_points(\n",
    "    point1: Tuple[float, float], point2: Tuple[float, float]\n",
    ") -> Tuple[float, float]:\n",
    "    \"\"\"Returns a vector of unit length between two points, rounded to 5 decimal places\"\"\"\n",
    "    point_diff = np.array(point2) - np.array(point1)\n",
    "    unit_vec = point_diff / np.linalg.norm(point_diff)\n",
    "\n",
    "    return tuple(map(round_to_five_decimal, unit_vec))"
   ]
  },
  {
   "cell_type": "markdown",
   "metadata": {},
   "source": [
    "## Determine how many asteroids are reachable from a given asteroid\n",
    "\n",
    "Compute a unit vector to each asteroid and store the set of unit vectors to other asteroids. Because sets have unique elements, two identical unit vectors pointing to two different asteroids will not be counted twice."
   ]
  },
  {
   "cell_type": "code",
   "execution_count": 5,
   "metadata": {},
   "outputs": [
    {
     "data": {
      "text/plain": [
       "276"
      ]
     },
     "execution_count": 5,
     "metadata": {},
     "output_type": "execute_result"
    }
   ],
   "source": [
    "reachable_asteroids = np.zeros((36, 36))\n",
    "\n",
    "for asteroid in asteroid_locs:\n",
    "    # get list of all asteroids other than current one\n",
    "    other_asteroids = [other_asteroid for other_asteroid in asteroid_locs if asteroid != other_asteroid]\n",
    "    unit_vector_to_asteroid = set()\n",
    "\n",
    "    unit_vector_to_asteroid = set([\n",
    "        get_unit_vector_between_points(asteroid, other_asteroid)\n",
    "        for other_asteroid in other_asteroids\n",
    "    ])\n",
    "\n",
    "    reachable_asteroids[asteroid] = len(unit_vector_to_asteroid)\n",
    "\n",
    "int(reachable_asteroids.max())"
   ]
  }
 ],
 "metadata": {
  "kernelspec": {
   "display_name": "Python 3",
   "language": "python",
   "name": "python3"
  },
  "language_info": {
   "codemirror_mode": {
    "name": "ipython",
    "version": 3
   },
   "file_extension": ".py",
   "mimetype": "text/x-python",
   "name": "python",
   "nbconvert_exporter": "python",
   "pygments_lexer": "ipython3",
   "version": "3.7.5"
  }
 },
 "nbformat": 4,
 "nbformat_minor": 4
}
