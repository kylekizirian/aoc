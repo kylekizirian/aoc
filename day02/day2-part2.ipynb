{
 "cells": [
  {
   "cell_type": "code",
   "execution_count": 1,
   "metadata": {},
   "outputs": [],
   "source": [
    "from copy import copy\n",
    "from itertools import permutations\n",
    "from operator import add, mul"
   ]
  },
  {
   "cell_type": "code",
   "execution_count": 2,
   "metadata": {},
   "outputs": [],
   "source": [
    "with open(\"./input.txt\") as f:\n",
    "    instructions = list(map(int, f.read().split(\",\")))"
   ]
  },
  {
   "cell_type": "code",
   "execution_count": 3,
   "metadata": {},
   "outputs": [
    {
     "name": "stdout",
     "output_type": "stream",
     "text": [
      "4925\n"
     ]
    }
   ],
   "source": [
    "for noun, verb in permutations(range(0, 100), 2):\n",
    "    temp_instructions = copy(instructions)\n",
    "    temp_instructions[1], temp_instructions[2] = noun, verb\n",
    "    for n in range(0, len(temp_instructions), 4):\n",
    "        if temp_instructions[n] == 99: break\n",
    "        operator = (None, add, mul)\n",
    "        temp_instructions[temp_instructions[n+3]] = operator[temp_instructions[n]](temp_instructions[temp_instructions[n+1]], temp_instructions[temp_instructions[n+2]])\n",
    "    if temp_instructions[0] == 19690720:\n",
    "        print(100 * noun + verb)\n",
    "        break"
   ]
  }
 ],
 "metadata": {
  "kernelspec": {
   "display_name": "Python 3",
   "language": "python",
   "name": "python3"
  },
  "language_info": {
   "codemirror_mode": {
    "name": "ipython",
    "version": 3
   },
   "file_extension": ".py",
   "mimetype": "text/x-python",
   "name": "python",
   "nbconvert_exporter": "python",
   "pygments_lexer": "ipython3",
   "version": "3.7.5"
  }
 },
 "nbformat": 4,
 "nbformat_minor": 4
}
