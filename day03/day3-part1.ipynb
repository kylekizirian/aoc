{
 "cells": [
  {
   "cell_type": "code",
   "execution_count": 1,
   "metadata": {},
   "outputs": [],
   "source": [
    "with open(\"./input.txt\") as f:\n",
    "    lines = f.readlines()\n",
    "    wire1_moves, wire2_moves = lines[0].split(\",\"), lines[1].split(\",\")"
   ]
  },
  {
   "cell_type": "code",
   "execution_count": 2,
   "metadata": {},
   "outputs": [],
   "source": [
    "def compute_wire_positions(wire_moves):\n",
    "    wire_position = [(0, 0)]\n",
    "    for move in wire_moves:\n",
    "        if move.startswith(\"U\"):\n",
    "            wire_position += [(wire_position[-1][0], wire_position[-1][1]+n) for n in range(1, int(move[1:])+1)]\n",
    "        if move.startswith(\"D\"):\n",
    "            wire_position += [(wire_position[-1][0], wire_position[-1][1]-n) for n in range(1, int(move[1:])+1)]\n",
    "        if move.startswith(\"R\"):\n",
    "            wire_position += [(wire_position[-1][0]+n, wire_position[-1][1]) for n in range(1, int(move[1:])+1)]\n",
    "        if move.startswith(\"L\"):\n",
    "            wire_position += [(wire_position[-1][0]-n, wire_position[-1][1]) for n in range(1, int(move[1:])+1)]\n",
    "    return wire_position"
   ]
  },
  {
   "cell_type": "code",
   "execution_count": 3,
   "metadata": {},
   "outputs": [],
   "source": [
    "wire1_pos, wire2_pos = compute_wire_positions(wire1_moves), compute_wire_positions(wire2_moves)"
   ]
  },
  {
   "cell_type": "code",
   "execution_count": 4,
   "metadata": {},
   "outputs": [],
   "source": [
    "intersecting_points = set(wire1_pos).intersection(wire2_pos)\n",
    "intersecting_points.remove((0, 0))"
   ]
  },
  {
   "cell_type": "code",
   "execution_count": 5,
   "metadata": {},
   "outputs": [
    {
     "data": {
      "text/plain": [
       "651"
      ]
     },
     "execution_count": 5,
     "metadata": {},
     "output_type": "execute_result"
    }
   ],
   "source": [
    "manhattan_distance = lambda x: abs(x[0]) + abs(x[1])\n",
    "manhattan_distance(min(intersecting_points, key=manhattan_distance))"
   ]
  }
 ],
 "metadata": {
  "kernelspec": {
   "display_name": "Python 3",
   "language": "python",
   "name": "python3"
  },
  "language_info": {
   "codemirror_mode": {
    "name": "ipython",
    "version": 3
   },
   "file_extension": ".py",
   "mimetype": "text/x-python",
   "name": "python",
   "nbconvert_exporter": "python",
   "pygments_lexer": "ipython3",
   "version": "3.7.5"
  }
 },
 "nbformat": 4,
 "nbformat_minor": 4
}
